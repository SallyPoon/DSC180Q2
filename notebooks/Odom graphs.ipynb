{
 "cells": [
  {
   "cell_type": "code",
   "execution_count": 5,
   "metadata": {},
   "outputs": [
    {
     "data": {
      "text/plain": [
       "'/Users/sally/Documents/GitHub/DSC180Q2/notebooks'"
      ]
     },
     "execution_count": 5,
     "metadata": {},
     "output_type": "execute_result"
    }
   ],
   "source": [
    "import os\n",
    "os.getcwd()"
   ]
  },
  {
   "cell_type": "code",
   "execution_count": 14,
   "metadata": {},
   "outputs": [
    {
     "name": "stdout",
     "output_type": "stream",
     "text": [
      "Output directory created successfully\n",
      "[INFO]  Data folder /Users/sally/Documents/GitHub/DSC180Q2/data/raw/semi_circle_0.7 already exists. Not creating.\n",
      "Extracted .bag data and written to destination successfully\n"
     ]
    }
   ],
   "source": [
    "import os\n",
    "import shutil\n",
    "import bagpy\n",
    "import rosbag\n",
    "from bagpy import bagreader\n",
    "import pandas as pd\n",
    "import seaborn as sea\n",
    "import matplotlib.pyplot as plt\n",
    "import math\n",
    "\n",
    "\n",
    "\n",
    "print('Output directory created successfully')\n",
    "\n",
    "odometry_path = os.path.join('/Users/sally/Documents/GitHub/DSC180Q2/data/raw', 'semi_circle_0.7.bag')\n",
    "bag = bagreader(odometry_path)\n",
    "odom_data = bag.message_by_topic('/vesc/odom')\n",
    "df_odom = pd.read_csv(odom_data)\n",
    "#df_odom.to_csv(os.path.join(outdir,'odom_data_test.csv'))\n",
    "\n",
    "print('Extracted .bag data and written to destination successfully')"
   ]
  },
  {
   "cell_type": "code",
   "execution_count": 19,
   "metadata": {},
   "outputs": [
    {
     "name": "stderr",
     "output_type": "stream",
     "text": [
      "/Users/sally/opt/anaconda3/lib/python3.7/site-packages/ipykernel_launcher.py:2: SettingWithCopyWarning: \n",
      "A value is trying to be set on a copy of a slice from a DataFrame.\n",
      "Try using .loc[row_indexer,col_indexer] = value instead\n",
      "\n",
      "See the caveats in the documentation: http://pandas.pydata.org/pandas-docs/stable/user_guide/indexing.html#returning-a-view-versus-a-copy\n",
      "  \n"
     ]
    }
   ],
   "source": [
    "a = df_odom[['Time','pose.pose.position.x','pose.pose.position.y']]\n",
    "a['Time'] = a['Time'] - a['Time'].min()"
   ]
  },
  {
   "cell_type": "code",
   "execution_count": 20,
   "metadata": {},
   "outputs": [
    {
     "data": {
      "text/html": [
       "<div>\n",
       "<style scoped>\n",
       "    .dataframe tbody tr th:only-of-type {\n",
       "        vertical-align: middle;\n",
       "    }\n",
       "\n",
       "    .dataframe tbody tr th {\n",
       "        vertical-align: top;\n",
       "    }\n",
       "\n",
       "    .dataframe thead th {\n",
       "        text-align: right;\n",
       "    }\n",
       "</style>\n",
       "<table border=\"1\" class=\"dataframe\">\n",
       "  <thead>\n",
       "    <tr style=\"text-align: right;\">\n",
       "      <th></th>\n",
       "      <th>Time</th>\n",
       "      <th>pose.pose.position.x</th>\n",
       "      <th>pose.pose.position.y</th>\n",
       "    </tr>\n",
       "  </thead>\n",
       "  <tbody>\n",
       "    <tr>\n",
       "      <td>0</td>\n",
       "      <td>0.000000</td>\n",
       "      <td>0.000000</td>\n",
       "      <td>0.000000</td>\n",
       "    </tr>\n",
       "    <tr>\n",
       "      <td>1</td>\n",
       "      <td>0.018106</td>\n",
       "      <td>0.000000</td>\n",
       "      <td>0.000000</td>\n",
       "    </tr>\n",
       "    <tr>\n",
       "      <td>2</td>\n",
       "      <td>0.037867</td>\n",
       "      <td>0.000000</td>\n",
       "      <td>0.000000</td>\n",
       "    </tr>\n",
       "    <tr>\n",
       "      <td>3</td>\n",
       "      <td>0.058022</td>\n",
       "      <td>0.000000</td>\n",
       "      <td>0.000000</td>\n",
       "    </tr>\n",
       "    <tr>\n",
       "      <td>4</td>\n",
       "      <td>0.077954</td>\n",
       "      <td>0.000000</td>\n",
       "      <td>0.000000</td>\n",
       "    </tr>\n",
       "    <tr>\n",
       "      <td>...</td>\n",
       "      <td>...</td>\n",
       "      <td>...</td>\n",
       "      <td>...</td>\n",
       "    </tr>\n",
       "    <tr>\n",
       "      <td>723</td>\n",
       "      <td>14.499498</td>\n",
       "      <td>0.357233</td>\n",
       "      <td>0.177625</td>\n",
       "    </tr>\n",
       "    <tr>\n",
       "      <td>724</td>\n",
       "      <td>14.499541</td>\n",
       "      <td>0.357233</td>\n",
       "      <td>0.177625</td>\n",
       "    </tr>\n",
       "    <tr>\n",
       "      <td>725</td>\n",
       "      <td>14.539216</td>\n",
       "      <td>0.357233</td>\n",
       "      <td>0.177625</td>\n",
       "    </tr>\n",
       "    <tr>\n",
       "      <td>726</td>\n",
       "      <td>14.539351</td>\n",
       "      <td>0.357233</td>\n",
       "      <td>0.177625</td>\n",
       "    </tr>\n",
       "    <tr>\n",
       "      <td>727</td>\n",
       "      <td>14.540842</td>\n",
       "      <td>0.357233</td>\n",
       "      <td>0.177625</td>\n",
       "    </tr>\n",
       "  </tbody>\n",
       "</table>\n",
       "<p>728 rows × 3 columns</p>\n",
       "</div>"
      ],
      "text/plain": [
       "          Time  pose.pose.position.x  pose.pose.position.y\n",
       "0     0.000000              0.000000              0.000000\n",
       "1     0.018106              0.000000              0.000000\n",
       "2     0.037867              0.000000              0.000000\n",
       "3     0.058022              0.000000              0.000000\n",
       "4     0.077954              0.000000              0.000000\n",
       "..         ...                   ...                   ...\n",
       "723  14.499498              0.357233              0.177625\n",
       "724  14.499541              0.357233              0.177625\n",
       "725  14.539216              0.357233              0.177625\n",
       "726  14.539351              0.357233              0.177625\n",
       "727  14.540842              0.357233              0.177625\n",
       "\n",
       "[728 rows x 3 columns]"
      ]
     },
     "execution_count": 20,
     "metadata": {},
     "output_type": "execute_result"
    }
   ],
   "source": [
    "a"
   ]
  },
  {
   "cell_type": "code",
   "execution_count": null,
   "metadata": {},
   "outputs": [],
   "source": []
  },
  {
   "cell_type": "code",
   "execution_count": 16,
   "metadata": {},
   "outputs": [
    {
     "data": {
      "image/png": "[encoded data removed]",
      "text/plain": [
       "<Figure size 432x288 with 1 Axes>"
      ]
     },
     "metadata": {
      "needs_background": "light"
     },
     "output_type": "display_data"
    },
    {
     "name": "stdout",
     "output_type": "stream",
     "text": [
      "odom plot success!\n"
     ]
    }
   ],
   "source": [
    "# df_odom['pos_x'] = pos_x\n",
    "# df_odom['pos_y'] = pos_y\n",
    "plt.plot(df_odom['pose.pose.position.x'], df_odom['pose.pose.position.y'],'b')\n",
    "plt.xlabel('X in meters')\n",
    "plt.ylabel('Y in meters')\n",
    "plt.show()\n",
    "print('odom plot success!')"
   ]
  },
  {
   "cell_type": "code",
   "execution_count": 24,
   "metadata": {},
   "outputs": [
    {
     "name": "stdout",
     "output_type": "stream",
     "text": [
      "Output directory created successfully\n",
      "[INFO]  Successfully created the data folder /Users/sally/Documents/GitHub/DSC180Q2/data/raw/straight_3412.\n",
      "Extracted .bag data and written to destination successfully\n"
     ]
    }
   ],
   "source": [
    "import os\n",
    "import shutil\n",
    "import bagpy\n",
    "import rosbag\n",
    "from bagpy import bagreader\n",
    "import pandas as pd\n",
    "import seaborn as sea\n",
    "import matplotlib.pyplot as plt\n",
    "import math\n",
    "\n",
    "\n",
    "\n",
    "print('Output directory created successfully')\n",
    "\n",
    "odometry_path = os.path.join('/Users/sally/Documents/GitHub/DSC180Q2/data/raw', 'straight_3412.bag')\n",
    "bag = bagreader(odometry_path)\n",
    "odom_data = bag.message_by_topic('/vesc/odom')\n",
    "df_odom = pd.read_csv(odom_data)\n",
    "#df_odom.to_csv(os.path.join(outdir,'odom_data_test.csv'))\n",
    "\n",
    "print('Extracted .bag data and written to destination successfully')"
   ]
  },
  {
   "cell_type": "code",
   "execution_count": 43,
   "metadata": {},
   "outputs": [
    {
     "data": {
      "image/png": "[encoded data removed]",
      "text/plain": [
       "<Figure size 432x288 with 1 Axes>"
      ]
     },
     "metadata": {
      "needs_background": "light"
     },
     "output_type": "display_data"
    }
   ],
   "source": [
    "plt.figure()\n",
    "plt.plot(df_odom['pose.pose.position.x'], [0] * len(df_odom))\n",
    "plt.xlabel('Distance in meters')\n",
    "plt.show()"
   ]
  },
  {
   "cell_type": "code",
   "execution_count": 28,
   "metadata": {},
   "outputs": [
    {
     "data": {
      "text/plain": [
       "0      0.000000\n",
       "1      0.000000\n",
       "2      0.000000\n",
       "3      0.000000\n",
       "4      0.000000\n",
       "         ...   \n",
       "541    2.580117\n",
       "542    2.580117\n",
       "543    2.580117\n",
       "544    2.580117\n",
       "545    2.580117\n",
       "Name: pose.pose.position.x, Length: 546, dtype: float64"
      ]
     },
     "execution_count": 28,
     "metadata": {},
     "output_type": "execute_result"
    }
   ],
   "source": []
  },
  {
   "cell_type": "code",
   "execution_count": null,
   "metadata": {},
   "outputs": [],
   "source": []
  }
 ],
 "metadata": {
  "kernelspec": {
   "display_name": "Python 3",
   "language": "python",
   "name": "python3"
  },
  "language_info": {
   "codemirror_mode": {
    "name": "ipython",
    "version": 3
   },
   "file_extension": ".py",
   "mimetype": "text/x-python",
   "name": "python",
   "nbconvert_exporter": "python",
   "pygments_lexer": "ipython3",
   "version": "3.7.4"
  }
 },
 "nbformat": 4,
 "nbformat_minor": 2
}
