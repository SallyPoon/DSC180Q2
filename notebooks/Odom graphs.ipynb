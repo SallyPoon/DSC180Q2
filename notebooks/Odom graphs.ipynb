{
 "cells": [
  {
   "cell_type": "code",
   "execution_count": 5,
   "metadata": {},
   "outputs": [
    {
     "data": {
      "text/plain": [
       "'/Users/sally/Documents/GitHub/DSC180Q2/notebooks'"
      ]
     },
     "execution_count": 5,
     "metadata": {},
     "output_type": "execute_result"
    }
   ],
   "source": [
    "import os\n",
    "os.getcwd()"
   ]
  },
  {
   "cell_type": "code",
   "execution_count": 41,
   "metadata": {},
   "outputs": [
    {
     "name": "stdout",
     "output_type": "stream",
     "text": [
      "Output directory created successfully\n",
      "[INFO]  Data folder /Users/sally/Documents/GitHub/DSC180Q2/data/raw/semi_circle_0.7 already exists. Not creating.\n",
      "[INFO]  Data folder /Users/sally/Documents/GitHub/DSC180Q2/data/raw/semi_circle_0_5 already exists. Not creating.\n",
      "[INFO]  Data folder /Users/sally/Documents/GitHub/DSC180Q2/data/raw/semi_circle_0_9 already exists. Not creating.\n",
      "[INFO]  Data folder /Users/sally/Documents/GitHub/DSC180Q2/data/raw/semi_circle_0_8 already exists. Not creating.\n",
      "Extracted .bag data and written to destination successfully\n"
     ]
    }
   ],
   "source": [
    "import os\n",
    "import shutil\n",
    "import bagpy\n",
    "import rosbag\n",
    "from bagpy import bagreader\n",
    "import pandas as pd\n",
    "import seaborn as sea\n",
    "import matplotlib.pyplot as plt\n",
    "import math\n",
    "import numpy as np\n",
    "\n",
    "\n",
    "print('Output directory created successfully')\n",
    "\n",
    "odometry_path = os.path.join('/Users/sally/Documents/GitHub/DSC180Q2/data/raw', 'semi_circle_0.7.bag')\n",
    "bag = bagreader(odometry_path)\n",
    "odom_data = bag.message_by_topic('/vesc/odom')\n",
    "df_odom_0_7 = pd.read_csv(odom_data)\n",
    "\n",
    "\n",
    "odometry_path = os.path.join('/Users/sally/Documents/GitHub/DSC180Q2/data/raw', 'semi_circle_0_5.bag')\n",
    "bag = bagreader(odometry_path)\n",
    "odom_data = bag.message_by_topic('/vesc/odom')\n",
    "df_odom_0_5 = pd.read_csv(odom_data)\n",
    "\n",
    "\n",
    "odometry_path = os.path.join('/Users/sally/Documents/GitHub/DSC180Q2/data/raw', 'semi_circle_0_9.bag')\n",
    "bag = bagreader(odometry_path)\n",
    "odom_data = bag.message_by_topic('/vesc/odom')\n",
    "df_odom_0_9 = pd.read_csv(odom_data)\n",
    "\n",
    "\n",
    "odometry_path = os.path.join('/Users/sally/Documents/GitHub/DSC180Q2/data/raw', 'semi_circle_0_8.bag')\n",
    "bag = bagreader(odometry_path)\n",
    "odom_data = bag.message_by_topic('/vesc/odom')\n",
    "df_odom_0_8 = pd.read_csv(odom_data)\n",
    "\n",
    "print('Extracted .bag data and written to destination successfully')"
   ]
  },
  {
   "cell_type": "code",
   "execution_count": 23,
   "metadata": {},
   "outputs": [
    {
     "name": "stderr",
     "output_type": "stream",
     "text": [
      "/Users/sally/opt/anaconda3/lib/python3.7/site-packages/ipykernel_launcher.py:2: SettingWithCopyWarning: \n",
      "A value is trying to be set on a copy of a slice from a DataFrame.\n",
      "Try using .loc[row_indexer,col_indexer] = value instead\n",
      "\n",
      "See the caveats in the documentation: http://pandas.pydata.org/pandas-docs/stable/user_guide/indexing.html#returning-a-view-versus-a-copy\n",
      "  \n"
     ]
    }
   ],
   "source": [
    "a = df_odom_0_7[['Time','pose.pose.position.x','pose.pose.position.y']]\n",
    "a['Time'] = a['Time'] - a['Time'].min()"
   ]
  },
  {
   "cell_type": "code",
   "execution_count": 26,
   "metadata": {},
   "outputs": [
    {
     "data": {
      "text/html": [
       "<div>\n",
       "<style scoped>\n",
       "    .dataframe tbody tr th:only-of-type {\n",
       "        vertical-align: middle;\n",
       "    }\n",
       "\n",
       "    .dataframe tbody tr th {\n",
       "        vertical-align: top;\n",
       "    }\n",
       "\n",
       "    .dataframe thead th {\n",
       "        text-align: right;\n",
       "    }\n",
       "</style>\n",
       "<table border=\"1\" class=\"dataframe\">\n",
       "  <thead>\n",
       "    <tr style=\"text-align: right;\">\n",
       "      <th></th>\n",
       "      <th>Time</th>\n",
       "      <th>pose.pose.position.x</th>\n",
       "      <th>pose.pose.position.y</th>\n",
       "    </tr>\n",
       "  </thead>\n",
       "  <tbody>\n",
       "    <tr>\n",
       "      <td>0</td>\n",
       "      <td>0.000000</td>\n",
       "      <td>0.000000</td>\n",
       "      <td>0.000000</td>\n",
       "    </tr>\n",
       "    <tr>\n",
       "      <td>1</td>\n",
       "      <td>0.000033</td>\n",
       "      <td>0.000000</td>\n",
       "      <td>0.000000</td>\n",
       "    </tr>\n",
       "    <tr>\n",
       "      <td>2</td>\n",
       "      <td>0.000056</td>\n",
       "      <td>0.000000</td>\n",
       "      <td>0.000000</td>\n",
       "    </tr>\n",
       "    <tr>\n",
       "      <td>3</td>\n",
       "      <td>0.008502</td>\n",
       "      <td>0.000000</td>\n",
       "      <td>0.000000</td>\n",
       "    </tr>\n",
       "    <tr>\n",
       "      <td>4</td>\n",
       "      <td>0.028008</td>\n",
       "      <td>0.000000</td>\n",
       "      <td>0.000000</td>\n",
       "    </tr>\n",
       "    <tr>\n",
       "      <td>...</td>\n",
       "      <td>...</td>\n",
       "      <td>...</td>\n",
       "      <td>...</td>\n",
       "    </tr>\n",
       "    <tr>\n",
       "      <td>606</td>\n",
       "      <td>12.079000</td>\n",
       "      <td>-0.203091</td>\n",
       "      <td>0.487572</td>\n",
       "    </tr>\n",
       "    <tr>\n",
       "      <td>607</td>\n",
       "      <td>12.126796</td>\n",
       "      <td>-0.202658</td>\n",
       "      <td>0.489257</td>\n",
       "    </tr>\n",
       "    <tr>\n",
       "      <td>608</td>\n",
       "      <td>12.126826</td>\n",
       "      <td>-0.202279</td>\n",
       "      <td>0.490736</td>\n",
       "    </tr>\n",
       "    <tr>\n",
       "      <td>609</td>\n",
       "      <td>12.166120</td>\n",
       "      <td>-0.201933</td>\n",
       "      <td>0.492086</td>\n",
       "    </tr>\n",
       "    <tr>\n",
       "      <td>610</td>\n",
       "      <td>12.166209</td>\n",
       "      <td>-0.201542</td>\n",
       "      <td>0.493610</td>\n",
       "    </tr>\n",
       "  </tbody>\n",
       "</table>\n",
       "<p>611 rows × 3 columns</p>\n",
       "</div>"
      ],
      "text/plain": [
       "          Time  pose.pose.position.x  pose.pose.position.y\n",
       "0     0.000000              0.000000              0.000000\n",
       "1     0.000033              0.000000              0.000000\n",
       "2     0.000056              0.000000              0.000000\n",
       "3     0.008502              0.000000              0.000000\n",
       "4     0.028008              0.000000              0.000000\n",
       "..         ...                   ...                   ...\n",
       "606  12.079000             -0.203091              0.487572\n",
       "607  12.126796             -0.202658              0.489257\n",
       "608  12.126826             -0.202279              0.490736\n",
       "609  12.166120             -0.201933              0.492086\n",
       "610  12.166209             -0.201542              0.493610\n",
       "\n",
       "[611 rows x 3 columns]"
      ]
     },
     "execution_count": 26,
     "metadata": {},
     "output_type": "execute_result"
    }
   ],
   "source": [
    "a"
   ]
  },
  {
   "cell_type": "code",
   "execution_count": null,
   "metadata": {},
   "outputs": [],
   "source": []
  },
  {
   "cell_type": "code",
   "execution_count": 59,
   "metadata": {},
   "outputs": [
    {
     "data": {
      "image/png": "[encoded data removed]",
      "text/plain": [
       "<Figure size 432x288 with 1 Axes>"
      ]
     },
     "metadata": {
      "needs_background": "light"
     },
     "output_type": "display_data"
    },
    {
     "name": "stdout",
     "output_type": "stream",
     "text": [
      "odom plot success!\n"
     ]
    }
   ],
   "source": [
    "# df_odom['pos_x'] = pos_x\n",
    "# df_odom['pos_y'] = pos_y\n",
    "plt.plot(df_odom_0_7['pose.pose.position.x'], df_odom_0_7['pose.pose.position.y'],'b')\n",
    "plt.xlabel('X in meters')\n",
    "plt.ylabel('Y in meters')\n",
    "plt.xticks(np.arange(-2, 2 ,0.5))\n",
    "plt.show()\n",
    "print('odom plot success!')"
   ]
  },
  {
   "cell_type": "code",
   "execution_count": 60,
   "metadata": {},
   "outputs": [
    {
     "data": {
      "image/png": "[encoded data removed]",
      "text/plain": [
       "<Figure size 432x288 with 1 Axes>"
      ]
     },
     "metadata": {
      "needs_background": "light"
     },
     "output_type": "display_data"
    },
    {
     "name": "stdout",
     "output_type": "stream",
     "text": [
      "odom plot success!\n"
     ]
    }
   ],
   "source": [
    "plt.plot(df_odom_0_9['pose.pose.position.x'], df_odom_0_9['pose.pose.position.y'],'b')\n",
    "plt.xlabel('X in meters')\n",
    "plt.ylabel('Y in meters')\n",
    "plt.xticks(np.arange(-2, 2 ,0.5))\n",
    "plt.show()\n",
    "print('odom plot success!')"
   ]
  },
  {
   "cell_type": "code",
   "execution_count": 61,
   "metadata": {},
   "outputs": [
    {
     "data": {
      "image/png": "[encoded data removed]",
      "text/plain": [
       "<Figure size 432x288 with 1 Axes>"
      ]
     },
     "metadata": {
      "needs_background": "light"
     },
     "output_type": "display_data"
    },
    {
     "name": "stdout",
     "output_type": "stream",
     "text": [
      "odom plot success!\n"
     ]
    }
   ],
   "source": [
    "plt.plot(df_odom_0_8['pose.pose.position.x'], df_odom_0_8['pose.pose.position.y'],'b')\n",
    "plt.xlabel('X in meters')\n",
    "plt.ylabel('Y in meters')\n",
    "plt.xticks(np.arange(-2, 2.5 ,0.5))\n",
    "plt.show()\n",
    "print('odom plot success!')"
   ]
  },
  {
   "cell_type": "code",
   "execution_count": 62,
   "metadata": {},
   "outputs": [
    {
     "data": {
      "image/png": "[encoded data removed]",
      "text/plain": [
       "<Figure size 432x288 with 1 Axes>"
      ]
     },
     "metadata": {
      "needs_background": "light"
     },
     "output_type": "display_data"
    },
    {
     "name": "stdout",
     "output_type": "stream",
     "text": [
      "odom plot success!\n"
     ]
    }
   ],
   "source": [
    "plt.plot(df_odom_0_5['pose.pose.position.x'], df_odom_0_5['pose.pose.position.y'],'b')\n",
    "plt.xlabel('X in meters')\n",
    "plt.ylabel('Y in meters')\n",
    "plt.xticks(np.arange(-2, 2.5 ,0.5))\n",
    "plt.show()\n",
    "print('odom plot success!')"
   ]
  },
  {
   "cell_type": "code",
   "execution_count": 32,
   "metadata": {},
   "outputs": [
    {
     "name": "stdout",
     "output_type": "stream",
     "text": [
      "[INFO]  Data folder /Users/sally/Documents/GitHub/DSC180Q2/data/raw/straight_3412 already exists. Not creating.\n",
      "[INFO]  Successfully created the data folder /Users/sally/Documents/GitHub/DSC180Q2/data/raw/straight_3912.\n",
      "[INFO]  Successfully created the data folder /Users/sally/Documents/GitHub/DSC180Q2/data/raw/straight_4112.\n",
      "[INFO]  Data folder /Users/sally/Documents/GitHub/DSC180Q2/data/raw/straight_3912 already exists. Not creating.\n",
      "[INFO]  Successfully created the data folder /Users/sally/Documents/GitHub/DSC180Q2/data/raw/straight_4612.\n",
      "[INFO]  Successfully created the data folder /Users/sally/Documents/GitHub/DSC180Q2/data/raw/straight_5112.\n",
      "[INFO]  Successfully created the data folder /Users/sally/Documents/GitHub/DSC180Q2/data/raw/straight_5612.\n",
      "Extracted .bag data and written to destination successfully\n"
     ]
    }
   ],
   "source": [
    "odometry_path = os.path.join('/Users/sally/Documents/GitHub/DSC180Q2/data/raw', 'straight_3412.bag')\n",
    "bag = bagreader(odometry_path)\n",
    "odom_data = bag.message_by_topic('/vesc/odom')\n",
    "df_odom_3412 = pd.read_csv(odom_data)\n",
    "#df_odom.to_csv(os.path.join(outdir,'odom_data_test.csv'))\n",
    "\n",
    "odometry_path = os.path.join('/Users/sally/Documents/GitHub/DSC180Q2/data/raw', 'straight_3912.bag')\n",
    "bag = bagreader(odometry_path)\n",
    "odom_data = bag.message_by_topic('/vesc/odom')\n",
    "df_odom_3912 = pd.read_csv(odom_data)\n",
    "\n",
    "\n",
    "odometry_path = os.path.join('/Users/sally/Documents/GitHub/DSC180Q2/data/raw', 'straight_4112.bag')\n",
    "bag = bagreader(odometry_path)\n",
    "odom_data = bag.message_by_topic('/vesc/odom')\n",
    "df_odom_4112 = pd.read_csv(odom_data)\n",
    "\n",
    "odometry_path = os.path.join('/Users/sally/Documents/GitHub/DSC180Q2/data/raw', 'straight_3912.bag')\n",
    "bag = bagreader(odometry_path)\n",
    "odom_data = bag.message_by_topic('/vesc/odom')\n",
    "df_odom_3912 = pd.read_csv(odom_data)\n",
    "\n",
    "odometry_path = os.path.join('/Users/sally/Documents/GitHub/DSC180Q2/data/raw', 'straight_4612.bag')\n",
    "bag = bagreader(odometry_path)\n",
    "odom_data = bag.message_by_topic('/vesc/odom')\n",
    "df_odom_4612 = pd.read_csv(odom_data)\n",
    "\n",
    "odometry_path = os.path.join('/Users/sally/Documents/GitHub/DSC180Q2/data/raw', 'straight_5112.bag')\n",
    "bag = bagreader(odometry_path)\n",
    "odom_data = bag.message_by_topic('/vesc/odom')\n",
    "df_odom_5112 = pd.read_csv(odom_data)\n",
    "\n",
    "\n",
    "odometry_path = os.path.join('/Users/sally/Documents/GitHub/DSC180Q2/data/raw', 'straight_5612.bag')\n",
    "bag = bagreader(odometry_path)\n",
    "odom_data = bag.message_by_topic('/vesc/odom')\n",
    "df_odom_5612 = pd.read_csv(odom_data)\n",
    "\n",
    "print('Extracted .bag data and written to destination successfully')"
   ]
  },
  {
   "cell_type": "code",
   "execution_count": null,
   "metadata": {},
   "outputs": [],
   "source": []
  },
  {
   "cell_type": "code",
   "execution_count": 44,
   "metadata": {},
   "outputs": [
    {
     "data": {
      "image/png": "[encoded data removed]",
      "text/plain": [
       "<Figure size 432x288 with 1 Axes>"
      ]
     },
     "metadata": {
      "needs_background": "light"
     },
     "output_type": "display_data"
    }
   ],
   "source": [
    "plt.figure()\n",
    "plt.plot(df_odom_3412['pose.pose.position.x'], [0] * len(df_odom_3412))\n",
    "plt.xlabel('Distance in meters')\n",
    "plt.xticks(np.arange(0, 2.5 ,0.2))\n",
    "plt.show()"
   ]
  },
  {
   "cell_type": "code",
   "execution_count": 45,
   "metadata": {},
   "outputs": [
    {
     "data": {
      "image/png": "[encoded data removed]",
      "text/plain": [
       "<Figure size 432x288 with 1 Axes>"
      ]
     },
     "metadata": {
      "needs_background": "light"
     },
     "output_type": "display_data"
    }
   ],
   "source": [
    "plt.figure()\n",
    "plt.plot(df_odom_3912['pose.pose.position.x'], [0] * len(df_odom_3912))\n",
    "plt.xlabel('Distance in meters')\n",
    "plt.xticks(np.arange(0, 2.5 ,0.2))\n",
    "plt.show()"
   ]
  },
  {
   "cell_type": "code",
   "execution_count": 47,
   "metadata": {},
   "outputs": [
    {
     "data": {
      "image/png": "[encoded data removed]",
      "text/plain": [
       "<Figure size 432x288 with 1 Axes>"
      ]
     },
     "metadata": {
      "needs_background": "light"
     },
     "output_type": "display_data"
    }
   ],
   "source": [
    "plt.figure()\n",
    "plt.plot(df_odom_4112['pose.pose.position.x'], [0] * len(df_odom_4112))\n",
    "plt.xlabel('Distance in meters')\n",
    "plt.xticks(np.arange(0, 2.5 ,0.2))\n",
    "plt.show()"
   ]
  },
  {
   "cell_type": "code",
   "execution_count": 49,
   "metadata": {},
   "outputs": [
    {
     "data": {
      "image/png": "[encoded data removed]",
      "text/plain": [
       "<Figure size 432x288 with 1 Axes>"
      ]
     },
     "metadata": {
      "needs_background": "light"
     },
     "output_type": "display_data"
    }
   ],
   "source": [
    "plt.figure()\n",
    "plt.plot(df_odom_4612['pose.pose.position.x'], [0] * len(df_odom_4612))\n",
    "plt.xlabel('Distance in meters')\n",
    "plt.xticks(np.arange(0, 2.5 ,0.2))\n",
    "plt.show()"
   ]
  },
  {
   "cell_type": "code",
   "execution_count": 50,
   "metadata": {},
   "outputs": [
    {
     "data": {
      "image/png": "[encoded data removed]",
      "text/plain": [
       "<Figure size 432x288 with 1 Axes>"
      ]
     },
     "metadata": {
      "needs_background": "light"
     },
     "output_type": "display_data"
    }
   ],
   "source": [
    "plt.figure()\n",
    "plt.plot(df_odom_5112['pose.pose.position.x'], [0] * len(df_odom_5112))\n",
    "plt.xlabel('Distance in meters')\n",
    "plt.xticks(np.arange(0, 2.5 ,0.2))\n",
    "plt.show()"
   ]
  },
  {
   "cell_type": "code",
   "execution_count": 51,
   "metadata": {},
   "outputs": [
    {
     "data": {
      "image/png": "[encoded data removed]",
      "text/plain": [
       "<Figure size 432x288 with 1 Axes>"
      ]
     },
     "metadata": {
      "needs_background": "light"
     },
     "output_type": "display_data"
    }
   ],
   "source": [
    "plt.figure()\n",
    "plt.plot(df_odom_5612['pose.pose.position.x'], [0] * len(df_odom_5612))\n",
    "plt.xlabel('Distance in meters')\n",
    "plt.xticks(np.arange(0, 2.5 ,0.2))\n",
    "plt.show()"
   ]
  },
  {
   "cell_type": "code",
   "execution_count": 63,
   "metadata": {},
   "outputs": [
    {
     "ename": "FileNotFoundError",
     "evalue": "[Errno 2] No such file or directory: '/Users/sally/Documents/GitHub/DSC180Q2/data/raw/vesc_servo_gain_m1_0.bag'",
     "output_type": "error",
     "traceback": [
      "\u001b[0;31m---------------------------------------------------------------------------\u001b[0m",
      "\u001b[0;31mFileNotFoundError\u001b[0m                         Traceback (most recent call last)",
      "\u001b[0;32m<ipython-input-63-48a9f5070038>\u001b[0m in \u001b[0;36m<module>\u001b[0;34m\u001b[0m\n\u001b[1;32m      1\u001b[0m \u001b[0modometry_path\u001b[0m \u001b[0;34m=\u001b[0m \u001b[0mos\u001b[0m\u001b[0;34m.\u001b[0m\u001b[0mpath\u001b[0m\u001b[0;34m.\u001b[0m\u001b[0mjoin\u001b[0m\u001b[0;34m(\u001b[0m\u001b[0;34m'/Users/sally/Documents/GitHub/DSC180Q2/data/raw'\u001b[0m\u001b[0;34m,\u001b[0m \u001b[0;34m'vesc_servo_gain_m1_0.bag'\u001b[0m\u001b[0;34m)\u001b[0m\u001b[0;34m\u001b[0m\u001b[0;34m\u001b[0m\u001b[0m\n\u001b[0;32m----> 2\u001b[0;31m \u001b[0mbag\u001b[0m \u001b[0;34m=\u001b[0m \u001b[0mbagreader\u001b[0m\u001b[0;34m(\u001b[0m\u001b[0modometry_path\u001b[0m\u001b[0;34m)\u001b[0m\u001b[0;34m\u001b[0m\u001b[0;34m\u001b[0m\u001b[0m\n\u001b[0m\u001b[1;32m      3\u001b[0m \u001b[0modom_data\u001b[0m \u001b[0;34m=\u001b[0m \u001b[0mbag\u001b[0m\u001b[0;34m.\u001b[0m\u001b[0mmessage_by_topic\u001b[0m\u001b[0;34m(\u001b[0m\u001b[0;34m'/vesc/odom'\u001b[0m\u001b[0;34m)\u001b[0m\u001b[0;34m\u001b[0m\u001b[0;34m\u001b[0m\u001b[0m\n\u001b[1;32m      4\u001b[0m \u001b[0mdf_odom_0_7\u001b[0m \u001b[0;34m=\u001b[0m \u001b[0mpd\u001b[0m\u001b[0;34m.\u001b[0m\u001b[0mread_csv\u001b[0m\u001b[0;34m(\u001b[0m\u001b[0modom_data\u001b[0m\u001b[0;34m)\u001b[0m\u001b[0;34m\u001b[0m\u001b[0;34m\u001b[0m\u001b[0m\n\u001b[1;32m      5\u001b[0m \u001b[0;34m\u001b[0m\u001b[0m\n",
      "\u001b[0;32m~/opt/anaconda3/lib/python3.7/site-packages/bagpy/bagreader.py\u001b[0m in \u001b[0;36m__init__\u001b[0;34m(self, bagfile, verbose, tmp)\u001b[0m\n\u001b[1;32m    200\u001b[0m             \u001b[0mself\u001b[0m\u001b[0;34m.\u001b[0m\u001b[0mdir\u001b[0m \u001b[0;34m=\u001b[0m \u001b[0;34m'./'\u001b[0m\u001b[0;34m\u001b[0m\u001b[0;34m\u001b[0m\u001b[0m\n\u001b[1;32m    201\u001b[0m \u001b[0;34m\u001b[0m\u001b[0m\n\u001b[0;32m--> 202\u001b[0;31m         \u001b[0mself\u001b[0m\u001b[0;34m.\u001b[0m\u001b[0mreader\u001b[0m \u001b[0;34m=\u001b[0m \u001b[0mrosbag\u001b[0m\u001b[0;34m.\u001b[0m\u001b[0mBag\u001b[0m\u001b[0;34m(\u001b[0m\u001b[0mself\u001b[0m\u001b[0;34m.\u001b[0m\u001b[0mbagfile\u001b[0m\u001b[0;34m)\u001b[0m\u001b[0;34m\u001b[0m\u001b[0;34m\u001b[0m\u001b[0m\n\u001b[0m\u001b[1;32m    203\u001b[0m \u001b[0;34m\u001b[0m\u001b[0m\n\u001b[1;32m    204\u001b[0m         \u001b[0minfo\u001b[0m \u001b[0;34m=\u001b[0m \u001b[0mself\u001b[0m\u001b[0;34m.\u001b[0m\u001b[0mreader\u001b[0m\u001b[0;34m.\u001b[0m\u001b[0mget_type_and_topic_info\u001b[0m\u001b[0;34m(\u001b[0m\u001b[0;34m)\u001b[0m\u001b[0;34m\u001b[0m\u001b[0;34m\u001b[0m\u001b[0m\n",
      "\u001b[0;32m~/opt/anaconda3/lib/python3.7/site-packages/rosbag/bag.py\u001b[0m in \u001b[0;36m__init__\u001b[0;34m(self, f, mode, compression, chunk_threshold, allow_unindexed, options, skip_index)\u001b[0m\n\u001b[1;32m    465\u001b[0m         \u001b[0mself\u001b[0m\u001b[0;34m.\u001b[0m\u001b[0m_encryptor\u001b[0m \u001b[0;34m=\u001b[0m \u001b[0m_ROSBagNoEncryptor\u001b[0m\u001b[0;34m(\u001b[0m\u001b[0;34m)\u001b[0m\u001b[0;34m\u001b[0m\u001b[0;34m\u001b[0m\u001b[0m\n\u001b[1;32m    466\u001b[0m \u001b[0;34m\u001b[0m\u001b[0m\n\u001b[0;32m--> 467\u001b[0;31m         \u001b[0mself\u001b[0m\u001b[0;34m.\u001b[0m\u001b[0m_open\u001b[0m\u001b[0;34m(\u001b[0m\u001b[0mf\u001b[0m\u001b[0;34m,\u001b[0m \u001b[0mmode\u001b[0m\u001b[0;34m,\u001b[0m \u001b[0mallow_unindexed\u001b[0m\u001b[0;34m)\u001b[0m\u001b[0;34m\u001b[0m\u001b[0;34m\u001b[0m\u001b[0m\n\u001b[0m\u001b[1;32m    468\u001b[0m \u001b[0;34m\u001b[0m\u001b[0m\n\u001b[1;32m    469\u001b[0m         \u001b[0mself\u001b[0m\u001b[0;34m.\u001b[0m\u001b[0m_output_file\u001b[0m \u001b[0;34m=\u001b[0m \u001b[0mself\u001b[0m\u001b[0;34m.\u001b[0m\u001b[0m_file\u001b[0m\u001b[0;34m\u001b[0m\u001b[0;34m\u001b[0m\u001b[0m\n",
      "\u001b[0;32m~/opt/anaconda3/lib/python3.7/site-packages/rosbag/bag.py\u001b[0m in \u001b[0;36m_open\u001b[0;34m(self, f, mode, allow_unindexed)\u001b[0m\n\u001b[1;32m   1425\u001b[0m \u001b[0;34m\u001b[0m\u001b[0m\n\u001b[1;32m   1426\u001b[0m         \u001b[0;32mtry\u001b[0m\u001b[0;34m:\u001b[0m\u001b[0;34m\u001b[0m\u001b[0;34m\u001b[0m\u001b[0m\n\u001b[0;32m-> 1427\u001b[0;31m             \u001b[0;32mif\u001b[0m   \u001b[0mmode\u001b[0m \u001b[0;34m==\u001b[0m \u001b[0;34m'r'\u001b[0m\u001b[0;34m:\u001b[0m \u001b[0mself\u001b[0m\u001b[0;34m.\u001b[0m\u001b[0m_open_read\u001b[0m\u001b[0;34m(\u001b[0m\u001b[0mf\u001b[0m\u001b[0;34m,\u001b[0m \u001b[0mallow_unindexed\u001b[0m\u001b[0;34m)\u001b[0m\u001b[0;34m\u001b[0m\u001b[0;34m\u001b[0m\u001b[0m\n\u001b[0m\u001b[1;32m   1428\u001b[0m             \u001b[0;32melif\u001b[0m \u001b[0mmode\u001b[0m \u001b[0;34m==\u001b[0m \u001b[0;34m'w'\u001b[0m\u001b[0;34m:\u001b[0m \u001b[0mself\u001b[0m\u001b[0;34m.\u001b[0m\u001b[0m_open_write\u001b[0m\u001b[0;34m(\u001b[0m\u001b[0mf\u001b[0m\u001b[0;34m)\u001b[0m\u001b[0;34m\u001b[0m\u001b[0;34m\u001b[0m\u001b[0m\n\u001b[1;32m   1429\u001b[0m             \u001b[0;32melif\u001b[0m \u001b[0mmode\u001b[0m \u001b[0;34m==\u001b[0m \u001b[0;34m'a'\u001b[0m\u001b[0;34m:\u001b[0m \u001b[0mself\u001b[0m\u001b[0;34m.\u001b[0m\u001b[0m_open_append\u001b[0m\u001b[0;34m(\u001b[0m\u001b[0mf\u001b[0m\u001b[0;34m,\u001b[0m \u001b[0mallow_unindexed\u001b[0m\u001b[0;34m)\u001b[0m\u001b[0;34m\u001b[0m\u001b[0;34m\u001b[0m\u001b[0m\n",
      "\u001b[0;32m~/opt/anaconda3/lib/python3.7/site-packages/rosbag/bag.py\u001b[0m in \u001b[0;36m_open_read\u001b[0;34m(self, f, allow_unindexed)\u001b[0m\n\u001b[1;32m   1447\u001b[0m             \u001b[0mself\u001b[0m\u001b[0;34m.\u001b[0m\u001b[0m_filename\u001b[0m \u001b[0;34m=\u001b[0m \u001b[0;32mNone\u001b[0m\u001b[0;34m\u001b[0m\u001b[0;34m\u001b[0m\u001b[0m\n\u001b[1;32m   1448\u001b[0m         \u001b[0;32melse\u001b[0m\u001b[0;34m:\u001b[0m\u001b[0;34m\u001b[0m\u001b[0;34m\u001b[0m\u001b[0m\n\u001b[0;32m-> 1449\u001b[0;31m             \u001b[0mself\u001b[0m\u001b[0;34m.\u001b[0m\u001b[0m_file\u001b[0m     \u001b[0;34m=\u001b[0m \u001b[0mopen\u001b[0m\u001b[0;34m(\u001b[0m\u001b[0mf\u001b[0m\u001b[0;34m,\u001b[0m \u001b[0;34m'rb'\u001b[0m\u001b[0;34m)\u001b[0m\u001b[0;34m\u001b[0m\u001b[0;34m\u001b[0m\u001b[0m\n\u001b[0m\u001b[1;32m   1450\u001b[0m             \u001b[0mself\u001b[0m\u001b[0;34m.\u001b[0m\u001b[0m_filename\u001b[0m \u001b[0;34m=\u001b[0m \u001b[0mf\u001b[0m\u001b[0;34m\u001b[0m\u001b[0;34m\u001b[0m\u001b[0m\n\u001b[1;32m   1451\u001b[0m \u001b[0;34m\u001b[0m\u001b[0m\n",
      "\u001b[0;31mFileNotFoundError\u001b[0m: [Errno 2] No such file or directory: '/Users/sally/Documents/GitHub/DSC180Q2/data/raw/vesc_servo_gain_m1_0.bag'"
     ]
    }
   ],
   "source": [
    "odometry_path = os.path.join('/Users/sally/Documents/GitHub/DSC180Q2/data/raw', 'vesc_servo_gain_m1_0.bag')\n",
    "bag = bagreader(odometry_path)\n",
    "odom_data = bag.message_by_topic('/vesc/odom')\n",
    "df_odom_0_7 = pd.read_csv(odom_data)\n",
    "\n",
    "\n",
    "odometry_path = os.path.join('/Users/sally/Documents/GitHub/DSC180Q2/data/raw', 'vesc_servo_gain_m1_1.bag')\n",
    "bag = bagreader(odometry_path)\n",
    "odom_data = bag.message_by_topic('/vesc/odom')\n",
    "df_odom_0_5 = pd.read_csv(odom_data)\n",
    "\n",
    "\n",
    "odometry_path = os.path.join('/Users/sally/Documents/GitHub/DSC180Q2/data/raw', 'vesc_servo_gain_m1_1v2.bag')\n",
    "bag = bagreader(odometry_path)\n",
    "odom_data = bag.message_by_topic('/vesc/odom')\n",
    "df_odom_0_9 = pd.read_csv(odom_data)\n",
    "\n",
    "\n",
    "odometry_path = os.path.join('/Users/sally/Documents/GitHub/DSC180Q2/data/raw', 'vesc_servo_gain_m1_2.bag')\n",
    "bag = bagreader(odometry_path)\n",
    "odom_data = bag.message_by_topic('/vesc/odom')\n",
    "df_odom_0_8 = pd.read_csv(odom_data)\n",
    "\n",
    "odometry_path = os.path.join('/Users/sally/Documents/GitHub/DSC180Q2/data/raw', 'vesc_servo_gain_m1_5.bag')\n",
    "bag = bagreader(odometry_path)\n",
    "odom_data = bag.message_by_topic('/vesc/odom')\n",
    "df_odom_0_8 = pd.read_csv(odom_data)\n",
    "\n",
    "odometry_path = os.path.join('/Users/sally/Documents/GitHub/DSC180Q2/data/raw', 'vesc_servo_gain_m2_0.bag')\n",
    "bag = bagreader(odometry_path)\n",
    "odom_data = bag.message_by_topic('/vesc/odom')\n",
    "df_odom_0_8 = pd.read_csv(odom_data)\n",
    "\n",
    "odometry_path = os.path.join('/Users/sally/Documents/GitHub/DSC180Q2/data/raw', 'vesc_servo_gain_m10_0.bag')\n",
    "bag = bagreader(odometry_path)\n",
    "odom_data = bag.message_by_topic('/vesc/odom')\n",
    "df_odom_0_8 = pd.read_csv(odom_data)\n",
    "\n",
    "\n",
    "print('Extracted .bag data and written to destination successfully')"
   ]
  },
  {
   "cell_type": "code",
   "execution_count": null,
   "metadata": {},
   "outputs": [],
   "source": []
  }
 ],
 "metadata": {
  "kernelspec": {
   "display_name": "Python 3",
   "language": "python",
   "name": "python3"
  },
  "language_info": {
   "codemirror_mode": {
    "name": "ipython",
    "version": 3
   },
   "file_extension": ".py",
   "mimetype": "text/x-python",
   "name": "python",
   "nbconvert_exporter": "python",
   "pygments_lexer": "ipython3",
   "version": "3.7.4"
  }
 },
 "nbformat": 4,
 "nbformat_minor": 2
}
