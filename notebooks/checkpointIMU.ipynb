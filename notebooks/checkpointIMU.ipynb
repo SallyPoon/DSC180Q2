{
 "cells": [
  {
   "cell_type": "markdown",
   "metadata": {},
   "source": [
    "# Exploratory Data Analysis"
   ]
  },
  {
   "cell_type": "markdown",
   "metadata": {},
   "source": [
    "### Authors: Pranav, Sally, Jie "
   ]
  },
  {
   "cell_type": "markdown",
   "metadata": {},
   "source": [
    "## Introduction\n",
    "\n",
    "\n",
    "#### The  problem  that  we  are  trying  to  investigate  is  the  effectiveness  of  IMU and Odometry for position estimation during autonomous car racing.  We are aiming to help Robots use IMU and Odometry sensor fusion with Kalman Filter State Estimation in cases when GPS and other mappings are not reliable,  or to supplement these readings.  In the following section we will investigate the reliability of the IMU sensor readings, as it is a core component of the robot’s sensor fusion."
   ]
  },
  {
   "cell_type": "markdown",
   "metadata": {},
   "source": [
    "## IMU Data"
   ]
  },
  {
   "cell_type": "code",
   "execution_count": 2,
   "metadata": {},
   "outputs": [],
   "source": [
    "import pandas as pd\n",
    "import numpy as np\n",
    "import matplotlib.pyplot as plt"
   ]
  },
  {
   "cell_type": "code",
   "execution_count": 4,
   "metadata": {},
   "outputs": [
    {
     "data": {
      "text/html": [
       "<div>\n",
       "<style scoped>\n",
       "    .dataframe tbody tr th:only-of-type {\n",
       "        vertical-align: middle;\n",
       "    }\n",
       "\n",
       "    .dataframe tbody tr th {\n",
       "        vertical-align: top;\n",
       "    }\n",
       "\n",
       "    .dataframe thead th {\n",
       "        text-align: right;\n",
       "    }\n",
       "</style>\n",
       "<table border=\"1\" class=\"dataframe\">\n",
       "  <thead>\n",
       "    <tr style=\"text-align: right;\">\n",
       "      <th></th>\n",
       "      <th>x</th>\n",
       "      <th>y</th>\n",
       "      <th>z</th>\n",
       "    </tr>\n",
       "  </thead>\n",
       "  <tbody>\n",
       "    <tr>\n",
       "      <th>0</th>\n",
       "      <td>0.83</td>\n",
       "      <td>4.30</td>\n",
       "      <td>5.03</td>\n",
       "    </tr>\n",
       "    <tr>\n",
       "      <th>1</th>\n",
       "      <td>1.66</td>\n",
       "      <td>-0.67</td>\n",
       "      <td>-6.53</td>\n",
       "    </tr>\n",
       "    <tr>\n",
       "      <th>2</th>\n",
       "      <td>3.93</td>\n",
       "      <td>4.16</td>\n",
       "      <td>2.85</td>\n",
       "    </tr>\n",
       "    <tr>\n",
       "      <th>3</th>\n",
       "      <td>-2.71</td>\n",
       "      <td>1.42</td>\n",
       "      <td>-7.74</td>\n",
       "    </tr>\n",
       "    <tr>\n",
       "      <th>4</th>\n",
       "      <td>0.30</td>\n",
       "      <td>-1.70</td>\n",
       "      <td>0.41</td>\n",
       "    </tr>\n",
       "  </tbody>\n",
       "</table>\n",
       "</div>"
      ],
      "text/plain": [
       "      x     y     z\n",
       "0  0.83  4.30  5.03\n",
       "1  1.66 -0.67 -6.53\n",
       "2  3.93  4.16  2.85\n",
       "3 -2.71  1.42 -7.74\n",
       "4  0.30 -1.70  0.41"
      ]
     },
     "execution_count": 4,
     "metadata": {},
     "output_type": "execute_result"
    }
   ],
   "source": [
    "imu_data = pd.read_csv('../data/raw/IMU-Data-Sheet1.csv')\n",
    "imu_data.head()"
   ]
  },
  {
   "cell_type": "code",
   "execution_count": 7,
   "metadata": {},
   "outputs": [
    {
     "data": {
      "text/html": [
       "<div>\n",
       "<style scoped>\n",
       "    .dataframe tbody tr th:only-of-type {\n",
       "        vertical-align: middle;\n",
       "    }\n",
       "\n",
       "    .dataframe tbody tr th {\n",
       "        vertical-align: top;\n",
       "    }\n",
       "\n",
       "    .dataframe thead th {\n",
       "        text-align: right;\n",
       "    }\n",
       "</style>\n",
       "<table border=\"1\" class=\"dataframe\">\n",
       "  <thead>\n",
       "    <tr style=\"text-align: right;\">\n",
       "      <th></th>\n",
       "      <th>x</th>\n",
       "      <th>y</th>\n",
       "    </tr>\n",
       "  </thead>\n",
       "  <tbody>\n",
       "    <tr>\n",
       "      <th>0</th>\n",
       "      <td>0.83</td>\n",
       "      <td>4.30</td>\n",
       "    </tr>\n",
       "    <tr>\n",
       "      <th>1</th>\n",
       "      <td>1.66</td>\n",
       "      <td>-0.67</td>\n",
       "    </tr>\n",
       "    <tr>\n",
       "      <th>2</th>\n",
       "      <td>3.93</td>\n",
       "      <td>4.16</td>\n",
       "    </tr>\n",
       "    <tr>\n",
       "      <th>3</th>\n",
       "      <td>-2.71</td>\n",
       "      <td>1.42</td>\n",
       "    </tr>\n",
       "    <tr>\n",
       "      <th>4</th>\n",
       "      <td>0.30</td>\n",
       "      <td>-1.70</td>\n",
       "    </tr>\n",
       "  </tbody>\n",
       "</table>\n",
       "</div>"
      ],
      "text/plain": [
       "      x     y\n",
       "0  0.83  4.30\n",
       "1  1.66 -0.67\n",
       "2  3.93  4.16\n",
       "3 -2.71  1.42\n",
       "4  0.30 -1.70"
      ]
     },
     "execution_count": 7,
     "metadata": {},
     "output_type": "execute_result"
    }
   ],
   "source": [
    "imu_ign_z = imu_data.drop('z',axis=1)\n",
    "imu_ign_z.head()"
   ]
  },
  {
   "cell_type": "code",
   "execution_count": 6,
   "metadata": {},
   "outputs": [
    {
     "data": {
      "image/png": "[encoded data removed]",
      "text/plain": [
       "<Figure size 432x288 with 1 Axes>"
      ]
     },
     "metadata": {
      "needs_background": "light"
     },
     "output_type": "display_data"
    }
   ],
   "source": [
    "plt.scatter(imu_ign_z['x'], imu_ign_z['y'], alpha=0.5)\n",
    "plt.title('IMU Scatterplot')\n",
    "plt.xlabel('x')\n",
    "plt.ylabel('y')\n",
    "plt.show()"
   ]
  },
  {
   "cell_type": "markdown",
   "metadata": {},
   "source": [
    "#### The IMU readings were generated using the IMU BMO080 accelerometer. These  readings  are  outputted  in  the  following  format:  x,y,z  in m/s2.   These readings  represent  the  directional  acceleration  during  sequential  timestamps. We  generated  100  of  these  data  values  to  analyze.   The  z  coordinate  was  interesting  to  handle  in comparison  to  the  x,y  values.   The  z  coordinate  would realistically be around 9.8m/s2 if we were traveling on a flat surface becauseit would ”accelerate” upward at 9.8m/s2 in order to counter gravitational acceleration.  In our case we are strictly focusing on x,y acceleration, therefore were moved the z value of the data because we are working on a flat surface so the z-coordinate is not important to us.  The data was taken at one second intervals,where the x row of the dataset represents x seconds has passed since the start. Our data was already relatively clean because the data schema of the outputis well designed , and did not need any specific cleaning or manipulation. This removed any needs for the usage of pipe lining for our IMU data.  Using these data values we plotted a scatter plot of all x and y acceleration values and found that there was no obvious correlation between the acceleration values and no bias.  This can be seen in the scatter plot because there are no obvious clumps in the graph and the data values are relatively spread out."
   ]
  },
  {
   "cell_type": "markdown",
   "metadata": {},
   "source": [
    "### Distributions of Acceleration Values"
   ]
  },
  {
   "cell_type": "code",
   "execution_count": 7,
   "metadata": {},
   "outputs": [
    {
     "data": {
      "image/png": "[encoded data removed]",
      "text/plain": [
       "<Figure size 432x288 with 1 Axes>"
      ]
     },
     "metadata": {
      "needs_background": "light"
     },
     "output_type": "display_data"
    }
   ],
   "source": [
    "plt.hist(imu_ign_z['x'], bins=None)\n",
    "plt.title('IMU X-Accleration Bar Chart')\n",
    "plt.xlabel('x')\n",
    "plt.ylabel('Frequency')\n",
    "plt.show()"
   ]
  },
  {
   "cell_type": "markdown",
   "metadata": {},
   "source": [
    "#### Next we plotted the distribution of x-direction acceleration values using ahistogram.   In  this  histogram  you  can  see  that  there  are  many  data  points that hover around 0 for acceleration.  We assumed that low acceleration occurs when a turn is happening.  Therefore the abundance of values around 0 indicates that  there  could  be  many  turns  in  the  track  we  are  navigating  on.   Another possibility is that the track is designed very straight so that there is not much X-acceleration  in  comparison  to  Y-acceleration.   The  peaks  around  -4  and  4m/s 2also indicates that there were many straight sections of the track where the car was able to accelerate quite fast"
   ]
  },
  {
   "cell_type": "code",
   "execution_count": 8,
   "metadata": {},
   "outputs": [
    {
     "data": {
      "image/png": "[encoded data removed]",
      "text/plain": [
       "<Figure size 432x288 with 1 Axes>"
      ]
     },
     "metadata": {
      "needs_background": "light"
     },
     "output_type": "display_data"
    }
   ],
   "source": [
    "plt.hist(imu_ign_z['y'], bins=None)\n",
    "plt.title('IMU Y-Accleration Bar Chart')\n",
    "plt.xlabel('Y')\n",
    "plt.ylabel('Frequency')\n",
    "plt.show()"
   ]
  },
  {
   "cell_type": "markdown",
   "metadata": {},
   "source": [
    "#### Then, we looked at was the Y-acceleration graph as a histogram.  In this final graph, we recognized that therewere significantly less values hovering around 0 compared to the X-acceleration graph.   This  shows  that  the  turns  in  this  track  are  probably  not  very  sharp turns because for all the low acceleration values in X, there are significantly low acceleration values in y.  This means for much of the track the car was traveling in mostly the y direction accelerating more in the y direction compared to thex direction.  This means our previous observation about the track containing more straight paths in which the car was mostly traveling and accelerating in the y direction is valid."
   ]
  },
  {
   "cell_type": "code",
   "execution_count": 8,
   "metadata": {},
   "outputs": [
    {
     "data": {
      "text/plain": [
       "array([[8.26661196, 0.62869923],\n",
       "       [0.62869923, 7.737561  ]])"
      ]
     },
     "execution_count": 8,
     "metadata": {},
     "output_type": "execute_result"
    }
   ],
   "source": [
    "cov = np.cov(imu_ign_z['x'],imu_ign_z['y'])\n",
    "cov"
   ]
  },
  {
   "cell_type": "markdown",
   "metadata": {},
   "source": [
    "#### Furthermore  by  analyzing  the  covariance  matrix  of  each  of  the  respective readings in x and y acceleration values,  one can see the variance of each was not significantly high, thus making it input ready for the Kalman Filter to be implemented.  This means the Kalman Filter can ”trust” these readings more during sensor fusion and won’t unpredictably bias the model."
   ]
  },
  {
   "cell_type": "markdown",
   "metadata": {},
   "source": [
    "## Positioning Method"
   ]
  },
  {
   "cell_type": "code",
   "execution_count": 9,
   "metadata": {},
   "outputs": [],
   "source": [
    "s_x = []\n",
    "s_y = []\n",
    "time = [(x + 1)**2 for x in imu_data.index.tolist()]"
   ]
  },
  {
   "cell_type": "code",
   "execution_count": 10,
   "metadata": {},
   "outputs": [],
   "source": [
    "s_x = (1/2) * imu_ign_z['x'] * (time)"
   ]
  },
  {
   "cell_type": "code",
   "execution_count": 11,
   "metadata": {},
   "outputs": [],
   "source": [
    "s_y = (1/2) * imu_ign_z['y'] * (time)"
   ]
  },
  {
   "cell_type": "code",
   "execution_count": 12,
   "metadata": {},
   "outputs": [],
   "source": [
    "imu_ign_z['position'] = list(zip(s_x, s_y))"
   ]
  },
  {
   "cell_type": "code",
   "execution_count": 13,
   "metadata": {},
   "outputs": [
    {
     "data": {
      "text/html": [
       "<div>\n",
       "<style scoped>\n",
       "    .dataframe tbody tr th:only-of-type {\n",
       "        vertical-align: middle;\n",
       "    }\n",
       "\n",
       "    .dataframe tbody tr th {\n",
       "        vertical-align: top;\n",
       "    }\n",
       "\n",
       "    .dataframe thead th {\n",
       "        text-align: right;\n",
       "    }\n",
       "</style>\n",
       "<table border=\"1\" class=\"dataframe\">\n",
       "  <thead>\n",
       "    <tr style=\"text-align: right;\">\n",
       "      <th></th>\n",
       "      <th>x</th>\n",
       "      <th>y</th>\n",
       "      <th>position</th>\n",
       "    </tr>\n",
       "  </thead>\n",
       "  <tbody>\n",
       "    <tr>\n",
       "      <td>0</td>\n",
       "      <td>0.83</td>\n",
       "      <td>4.30</td>\n",
       "      <td>(0.415, 2.15)</td>\n",
       "    </tr>\n",
       "    <tr>\n",
       "      <td>1</td>\n",
       "      <td>1.66</td>\n",
       "      <td>-0.67</td>\n",
       "      <td>(3.32, -1.34)</td>\n",
       "    </tr>\n",
       "    <tr>\n",
       "      <td>2</td>\n",
       "      <td>3.93</td>\n",
       "      <td>4.16</td>\n",
       "      <td>(17.685000000000002, 18.72)</td>\n",
       "    </tr>\n",
       "    <tr>\n",
       "      <td>3</td>\n",
       "      <td>-2.71</td>\n",
       "      <td>1.42</td>\n",
       "      <td>(-21.68, 11.36)</td>\n",
       "    </tr>\n",
       "    <tr>\n",
       "      <td>4</td>\n",
       "      <td>0.30</td>\n",
       "      <td>-1.70</td>\n",
       "      <td>(3.75, -21.25)</td>\n",
       "    </tr>\n",
       "    <tr>\n",
       "      <td>...</td>\n",
       "      <td>...</td>\n",
       "      <td>...</td>\n",
       "      <td>...</td>\n",
       "    </tr>\n",
       "    <tr>\n",
       "      <td>95</td>\n",
       "      <td>3.56</td>\n",
       "      <td>-1.14</td>\n",
       "      <td>(16404.48, -5253.12)</td>\n",
       "    </tr>\n",
       "    <tr>\n",
       "      <td>96</td>\n",
       "      <td>-3.17</td>\n",
       "      <td>4.11</td>\n",
       "      <td>(-14913.265, 19335.495000000003)</td>\n",
       "    </tr>\n",
       "    <tr>\n",
       "      <td>97</td>\n",
       "      <td>2.70</td>\n",
       "      <td>-2.61</td>\n",
       "      <td>(12965.400000000001, -12533.22)</td>\n",
       "    </tr>\n",
       "    <tr>\n",
       "      <td>98</td>\n",
       "      <td>2.94</td>\n",
       "      <td>-1.08</td>\n",
       "      <td>(14407.47, -5292.54)</td>\n",
       "    </tr>\n",
       "    <tr>\n",
       "      <td>99</td>\n",
       "      <td>-2.68</td>\n",
       "      <td>-0.87</td>\n",
       "      <td>(-13400.0, -4350.0)</td>\n",
       "    </tr>\n",
       "  </tbody>\n",
       "</table>\n",
       "<p>100 rows × 3 columns</p>\n",
       "</div>"
      ],
      "text/plain": [
       "       x     y                          position\n",
       "0   0.83  4.30                     (0.415, 2.15)\n",
       "1   1.66 -0.67                     (3.32, -1.34)\n",
       "2   3.93  4.16       (17.685000000000002, 18.72)\n",
       "3  -2.71  1.42                   (-21.68, 11.36)\n",
       "4   0.30 -1.70                    (3.75, -21.25)\n",
       "..   ...   ...                               ...\n",
       "95  3.56 -1.14              (16404.48, -5253.12)\n",
       "96 -3.17  4.11  (-14913.265, 19335.495000000003)\n",
       "97  2.70 -2.61   (12965.400000000001, -12533.22)\n",
       "98  2.94 -1.08              (14407.47, -5292.54)\n",
       "99 -2.68 -0.87               (-13400.0, -4350.0)\n",
       "\n",
       "[100 rows x 3 columns]"
      ]
     },
     "execution_count": 13,
     "metadata": {},
     "output_type": "execute_result"
    }
   ],
   "source": [
    "imu_ign_z"
   ]
  },
  {
   "cell_type": "code",
   "execution_count": 14,
   "metadata": {},
   "outputs": [
    {
     "data": {
      "image/png": "[encoded data removed]",
      "text/plain": [
       "<Figure size 432x288 with 1 Axes>"
      ]
     },
     "metadata": {
      "needs_background": "light"
     },
     "output_type": "display_data"
    }
   ],
   "source": [
    "plt.plot(s_x, s_y,'b')\n",
    "plt.show()"
   ]
  },
  {
   "cell_type": "markdown",
   "metadata": {},
   "source": [
    "#### The method we specifically focused on was the tracking of the vehicle through calculation of where the vehicle was at every second.  How we approached thiswas  we  used  the  directional  acceleration  and  multiplied  it  by  one  half  times squared in order to achieve the x and y displacement with respect to the starting point, in our case (0,0).  We chose to find the coordinates because we can startto visualize the path the robot took.  We then proceeded to draw those data points out sequentially using the x and y coordinates and we created a traced path  that  the  vehicle  took.   When  comparing  this  to  ground  truth  data  and position estimates derived from odometry, we can establish that the IMU based track is reliable and will be an essential component during sensor fusion."
   ]
  },
  {
   "cell_type": "markdown",
   "metadata": {},
   "source": [
    "## Conclusion/Future Direction"
   ]
  },
  {
   "cell_type": "markdown",
   "metadata": {},
   "source": [
    "#### Through our research and exploratory data analysis, we were able to determine the path, location, and overall turn and stop points that our robot took. We were able to find this through taking the acceleration of the x and y axis and using the acceleration equation of s(t) =v(0) + 1/2at2. After finding the positions,  we  plotted  the  path  that  the  robot  took  and  was  able  to  properly localize the area around the robot. After gathering the IMU and odometry positions,  we will find where they both converge and input them to create a Kalman filter to combine both methods for more accurate robotic localization."
   ]
  },
  {
   "cell_type": "code",
   "execution_count": null,
   "metadata": {},
   "outputs": [],
   "source": []
  }
 ],
 "metadata": {
  "kernelspec": {
   "display_name": "Python 3",
   "language": "python",
   "name": "python3"
  },
  "language_info": {
   "codemirror_mode": {
    "name": "ipython",
    "version": 3
   },
   "file_extension": ".py",
   "mimetype": "text/x-python",
   "name": "python",
   "nbconvert_exporter": "python",
   "pygments_lexer": "ipython3",
   "version": "3.7.4"
  }
 },
 "nbformat": 4,
 "nbformat_minor": 4
}
